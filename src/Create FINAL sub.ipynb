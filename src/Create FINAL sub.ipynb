{
 "cells": [
  {
   "cell_type": "markdown",
   "metadata": {},
   "source": [
    "### Создадим csv файл под нашу выборку кораблей"
   ]
  },
  {
   "cell_type": "code",
   "execution_count": 2,
   "metadata": {},
   "outputs": [],
   "source": [
    "import pandas as pd\n",
    "import os\n",
    "import numpy as np"
   ]
  },
  {
   "cell_type": "markdown",
   "metadata": {},
   "source": [
    "## Решение для пустынь"
   ]
  },
  {
   "cell_type": "code",
   "execution_count": 3,
   "metadata": {},
   "outputs": [
    {
     "name": "stdout",
     "output_type": "stream",
     "text": [
      "77\n"
     ]
    }
   ],
   "source": [
    "f1 = open('F:\\\\Downloads\\\\all\\\\test_classes\\\\desert_list.txt', 'r')\n",
    "desert_list = []\n",
    "for line in f1:\n",
    "    desert_list.append(line[:len(line)-1])\n",
    "desert_list[len(desert_list)-1] = desert_list[len(desert_list)-1] + 'g'\n",
    "print(len(desert_list))\n",
    "\n",
    "test_images = desert_list\n",
    "sub_1 = pd.DataFrame(columns=['ImageId', 'EncodedPixels'])\n",
    "i = 0\n",
    "for c_img in test_images:\n",
    "    sub_1.loc[i] = [c_img, None]\n",
    "    i += 1\n",
    "    \n",
    "sub_1.to_csv('F:\\\\Downloads\\\\all\\\\Submissions\\\\Submission_desert_list.csv', index=False)"
   ]
  },
  {
   "cell_type": "markdown",
   "metadata": {},
   "source": [
    "## Решение для пустых изображений"
   ]
  },
  {
   "cell_type": "code",
   "execution_count": 4,
   "metadata": {},
   "outputs": [
    {
     "name": "stdout",
     "output_type": "stream",
     "text": [
      "4697\n"
     ]
    }
   ],
   "source": [
    "f3 = open('F:\\\\Downloads\\\\all\\\\test_classes\\\\mono_no_ship_list.txt', 'r')\n",
    "mono_no_ship_list = []\n",
    "for line in f3:\n",
    "    mono_no_ship_list.append(line[:len(line)-1])\n",
    "mono_no_ship_list[len(mono_no_ship_list)-1] = mono_no_ship_list[len(mono_no_ship_list)-1] + 'g'\n",
    "print(len(mono_no_ship_list))\n",
    "\n",
    "test_images = mono_no_ship_list\n",
    "sub_2 = pd.DataFrame(columns=['ImageId', 'EncodedPixels'])\n",
    "i = 0\n",
    "for c_img in test_images:\n",
    "    sub_2.loc[i] = [c_img, None]\n",
    "    i += 1\n",
    "    \n",
    "sub_2.to_csv('F:\\\\Downloads\\\\all\\\\Submissions\\\\Submission_mono_no_ship_list.csv', index=False)"
   ]
  },
  {
   "cell_type": "markdown",
   "metadata": {},
   "source": [
    "## Загрузить решение отдельных задач"
   ]
  },
  {
   "cell_type": "code",
   "execution_count": 27,
   "metadata": {},
   "outputs": [],
   "source": [
    "sub_dir = 'F:\\\\Downloads\\\\all\\\\Submissions\\\\'\n",
    " \n",
    "sub_3 = pd.read_csv(sub_dir + 'best_sub\\\\Submission_simple_list_resnet_e100.csv')\n",
    "sub_4 = pd.read_csv(sub_dir + 'best_sub\\\\ResNet_motley_by_port_v3(1).csv')\n",
    "sub_5 = pd.read_csv(sub_dir + 'best_sub\\\\ResNet_port_v2(3).csv')\n",
    "sub_6 = pd.read_csv(sub_dir + 'best_sub\\\\mono(true)_finetune.csv')\n",
    "\n",
    "test_images = os.listdir('F:\\\\Downloads\\\\all\\\\test_v2')"
   ]
  },
  {
   "cell_type": "code",
   "execution_count": 125,
   "metadata": {},
   "outputs": [],
   "source": [
    "sub_final = pd.read_csv('F:\\\\Downloads\\\\all\\\\Submissions\\\\final\\\\test_filt_01.csv')\n",
    "sub_final = sub_final.values\n",
    "\n",
    "for i in range(len(sub_final)):\n",
    "    sub_final[i][0] = sub_final[i][0][:-1]\n",
    "sub_final = pd.DataFrame(sub_final, columns=['ImageId', 'EncodedPixels'])"
   ]
  },
  {
   "cell_type": "code",
   "execution_count": 126,
   "metadata": {},
   "outputs": [
    {
     "data": {
      "text/plain": [
       "(2255,)"
      ]
     },
     "execution_count": 126,
     "metadata": {},
     "output_type": "execute_result"
    }
   ],
   "source": [
    "sub_final.ImageId.unique().shape"
   ]
  },
  {
   "cell_type": "code",
   "execution_count": 103,
   "metadata": {},
   "outputs": [
    {
     "name": "stdout",
     "output_type": "stream",
     "text": [
      "['  447315 1 448083 3 448850 5 449617 8 450385 9 451152 12 451919 14 452687 16 453454 18 454221 21 454989 21 455756 22 456523 22 457291 21 458058 22 458825 22 459593 21 460360 22 461127 22 461895 21 462663 21 463433 18 464202 16 464972 14 465741 12 466511 9 467280 8 468050 5 468819 3 469589 1'\n",
      " '  458041 8 458809 9 459577 9 460344 10 461112 9 461880 9 462648 9 463416 9 464184 9 464952 9 465719 10 466487 9 467255 9 468024 8']\n"
     ]
    }
   ],
   "source": [
    "for c_img in sub_final.ImageId.unique()[:1]:\n",
    "    c_pix = sub_final[sub_final.ImageId == c_img].EncodedPixels.values\n",
    "    print(c_pix)"
   ]
  },
  {
   "cell_type": "code",
   "execution_count": 88,
   "metadata": {},
   "outputs": [
    {
     "data": {
      "text/plain": [
       "(2649,)"
      ]
     },
     "execution_count": 88,
     "metadata": {},
     "output_type": "execute_result"
    }
   ],
   "source": [
    "sub_final.ImageId.unique().shape"
   ]
  },
  {
   "cell_type": "code",
   "execution_count": 105,
   "metadata": {},
   "outputs": [
    {
     "data": {
      "text/plain": [
       "33333.333333333336"
      ]
     },
     "execution_count": 105,
     "metadata": {},
     "output_type": "execute_result"
    }
   ],
   "source": [
    "4000/0.12\n"
   ]
  },
  {
   "cell_type": "markdown",
   "metadata": {},
   "source": [
    "\n",
    "## Все остальные изображения пусты"
   ]
  },
  {
   "cell_type": "code",
   "execution_count": 127,
   "metadata": {},
   "outputs": [
    {
     "name": "stdout",
     "output_type": "stream",
     "text": [
      "Wall time: 17.9 s\n"
     ]
    }
   ],
   "source": [
    "%%time\n",
    "\n",
    "test_images = os.listdir('F:\\\\Downloads\\\\all\\\\test_v2')\n",
    "# изображения, на которые есть решение\n",
    "sub_final_imgs = sub_final.ImageId.unique()\n",
    "i = sub_final.shape[0]\n",
    "for c_img in test_images:\n",
    "    if c_img not in sub_final_imgs:\n",
    "        sub_final.loc[i] = [c_img, None]\n",
    "        i += 1"
   ]
  },
  {
   "cell_type": "code",
   "execution_count": 128,
   "metadata": {
    "scrolled": true
   },
   "outputs": [
    {
     "data": {
      "text/plain": [
       "(15606,)"
      ]
     },
     "execution_count": 128,
     "metadata": {},
     "output_type": "execute_result"
    }
   ],
   "source": [
    "sub_final.ImageId.unique().shape"
   ]
  },
  {
   "cell_type": "code",
   "execution_count": 129,
   "metadata": {},
   "outputs": [
    {
     "data": {
      "text/plain": [
       "(3820,)"
      ]
     },
     "execution_count": 129,
     "metadata": {},
     "output_type": "execute_result"
    }
   ],
   "source": [
    "sub_final.EncodedPixels.unique().shape"
   ]
  },
  {
   "cell_type": "code",
   "execution_count": 130,
   "metadata": {},
   "outputs": [],
   "source": [
    "sub_final.to_csv('F:\\\\Downloads\\\\all\\\\Submissions\\\\final\\\\sub_test_filt_01.csv', index=False)"
   ]
  },
  {
   "cell_type": "markdown",
   "metadata": {},
   "source": [
    "## Создать csv файл под тестовую выборку"
   ]
  },
  {
   "cell_type": "code",
   "execution_count": 3,
   "metadata": {},
   "outputs": [],
   "source": [
    "test_images = os.listdir('F:\\\\Downloads\\\\all\\\\data_test_3_task')"
   ]
  },
  {
   "cell_type": "code",
   "execution_count": 4,
   "metadata": {},
   "outputs": [
    {
     "data": {
      "text/plain": [
       "5762"
      ]
     },
     "execution_count": 4,
     "metadata": {},
     "output_type": "execute_result"
    }
   ],
   "source": [
    "len(test_images)"
   ]
  },
  {
   "cell_type": "code",
   "execution_count": 5,
   "metadata": {},
   "outputs": [],
   "source": [
    "df = pd.DataFrame(columns=['ImageId'])"
   ]
  },
  {
   "cell_type": "code",
   "execution_count": 6,
   "metadata": {},
   "outputs": [],
   "source": [
    "for i in range(len(test_images)):\n",
    "    df.loc[i] = test_images[i]"
   ]
  },
  {
   "cell_type": "code",
   "execution_count": 11,
   "metadata": {},
   "outputs": [],
   "source": [
    "df.to_csv('F:\\\\Downloads\\\\all\\\\data_test_3_task.csv')"
   ]
  },
  {
   "cell_type": "markdown",
   "metadata": {},
   "source": [
    "## Объеденить два решения"
   ]
  },
  {
   "cell_type": "code",
   "execution_count": 26,
   "metadata": {},
   "outputs": [],
   "source": [
    "sub_1 = pd.read_csv('F:\\\\Downloads\\\\all\\\\Submissions\\\\final_submission_v1.csv')\n",
    "sub_2 = pd.read_csv('F:\\\\Downloads\\\\all\\\\Submissions\\\\Submission_harbors.csv')\n",
    "\n",
    "#fin_sub = pd.concat([sub_1, sub_2])\n",
    "#fin_sub.to_csv('F:\\\\Downloads\\\\all\\\\final_submission_v6(unet+harbors).csv', index=False)"
   ]
  },
  {
   "cell_type": "code",
   "execution_count": 27,
   "metadata": {},
   "outputs": [],
   "source": [
    "sub_2 = sub_2.drop(sub_2.columns[[0]], 1)\n",
    "sub_2.to_csv('F:\\\\Downloads\\\\all\\\\Submissions\\\\sub_harbors.csv', index=False)"
   ]
  },
  {
   "cell_type": "code",
   "execution_count": 28,
   "metadata": {},
   "outputs": [
    {
     "data": {
      "text/html": [
       "<div>\n",
       "<style scoped>\n",
       "    .dataframe tbody tr th:only-of-type {\n",
       "        vertical-align: middle;\n",
       "    }\n",
       "\n",
       "    .dataframe tbody tr th {\n",
       "        vertical-align: top;\n",
       "    }\n",
       "\n",
       "    .dataframe thead th {\n",
       "        text-align: right;\n",
       "    }\n",
       "</style>\n",
       "<table border=\"1\" class=\"dataframe\">\n",
       "  <thead>\n",
       "    <tr style=\"text-align: right;\">\n",
       "      <th></th>\n",
       "      <th>ImageId</th>\n",
       "      <th>EncodedPixels</th>\n",
       "    </tr>\n",
       "  </thead>\n",
       "  <tbody>\n",
       "    <tr>\n",
       "      <th>0</th>\n",
       "      <td>00002bd58.jpg</td>\n",
       "      <td>NaN</td>\n",
       "    </tr>\n",
       "    <tr>\n",
       "      <th>1</th>\n",
       "      <td>0008ca6e9.jpg</td>\n",
       "      <td>NaN</td>\n",
       "    </tr>\n",
       "    <tr>\n",
       "      <th>2</th>\n",
       "      <td>004751507.jpg</td>\n",
       "      <td>NaN</td>\n",
       "    </tr>\n",
       "    <tr>\n",
       "      <th>3</th>\n",
       "      <td>004dd347a.jpg</td>\n",
       "      <td>NaN</td>\n",
       "    </tr>\n",
       "    <tr>\n",
       "      <th>4</th>\n",
       "      <td>0063cb1e9.jpg</td>\n",
       "      <td>NaN</td>\n",
       "    </tr>\n",
       "  </tbody>\n",
       "</table>\n",
       "</div>"
      ],
      "text/plain": [
       "         ImageId EncodedPixels\n",
       "0  00002bd58.jpg           NaN\n",
       "1  0008ca6e9.jpg           NaN\n",
       "2  004751507.jpg           NaN\n",
       "3  004dd347a.jpg           NaN\n",
       "4  0063cb1e9.jpg           NaN"
      ]
     },
     "execution_count": 28,
     "metadata": {},
     "output_type": "execute_result"
    }
   ],
   "source": [
    "sub_1.head()"
   ]
  },
  {
   "cell_type": "code",
   "execution_count": 29,
   "metadata": {},
   "outputs": [],
   "source": [
    "test = pd.read_csv('F:\\\\Downloads\\\\all\\\\Submissions\\\\sub_harbors.csv')"
   ]
  },
  {
   "cell_type": "code",
   "execution_count": 30,
   "metadata": {},
   "outputs": [
    {
     "data": {
      "text/html": [
       "<div>\n",
       "<style scoped>\n",
       "    .dataframe tbody tr th:only-of-type {\n",
       "        vertical-align: middle;\n",
       "    }\n",
       "\n",
       "    .dataframe tbody tr th {\n",
       "        vertical-align: top;\n",
       "    }\n",
       "\n",
       "    .dataframe thead th {\n",
       "        text-align: right;\n",
       "    }\n",
       "</style>\n",
       "<table border=\"1\" class=\"dataframe\">\n",
       "  <thead>\n",
       "    <tr style=\"text-align: right;\">\n",
       "      <th></th>\n",
       "      <th>ImageId</th>\n",
       "      <th>EncodedPixels</th>\n",
       "    </tr>\n",
       "  </thead>\n",
       "  <tbody>\n",
       "    <tr>\n",
       "      <th>0</th>\n",
       "      <td>0035268d9.jpg</td>\n",
       "      <td>432120 2 432886 2 432889 1 433658 1 434422 1 4...</td>\n",
       "    </tr>\n",
       "    <tr>\n",
       "      <th>1</th>\n",
       "      <td>0035268d9.jpg</td>\n",
       "      <td>433652 1 434419 1 434428 1 435186 1 435197 1 4...</td>\n",
       "    </tr>\n",
       "    <tr>\n",
       "      <th>2</th>\n",
       "      <td>0035268d9.jpg</td>\n",
       "      <td>458226 1 458993 1 458996 1 459760 1 459763 1 4...</td>\n",
       "    </tr>\n",
       "    <tr>\n",
       "      <th>3</th>\n",
       "      <td>0035268d9.jpg</td>\n",
       "      <td>472068 1</td>\n",
       "    </tr>\n",
       "    <tr>\n",
       "      <th>4</th>\n",
       "      <td>0035268d9.jpg</td>\n",
       "      <td>475883 1 476651 2</td>\n",
       "    </tr>\n",
       "  </tbody>\n",
       "</table>\n",
       "</div>"
      ],
      "text/plain": [
       "         ImageId                                      EncodedPixels\n",
       "0  0035268d9.jpg  432120 2 432886 2 432889 1 433658 1 434422 1 4...\n",
       "1  0035268d9.jpg  433652 1 434419 1 434428 1 435186 1 435197 1 4...\n",
       "2  0035268d9.jpg  458226 1 458993 1 458996 1 459760 1 459763 1 4...\n",
       "3  0035268d9.jpg                                           472068 1\n",
       "4  0035268d9.jpg                                  475883 1 476651 2"
      ]
     },
     "execution_count": 30,
     "metadata": {},
     "output_type": "execute_result"
    }
   ],
   "source": [
    "test.head()"
   ]
  },
  {
   "cell_type": "markdown",
   "metadata": {},
   "source": [
    "## Test"
   ]
  },
  {
   "cell_type": "markdown",
   "metadata": {},
   "source": [
    "уберем ошибки второго рода, зная где на самом деле должны быть корабли"
   ]
  },
  {
   "cell_type": "code",
   "execution_count": 2,
   "metadata": {},
   "outputs": [
    {
     "name": "stdout",
     "output_type": "stream",
     "text": [
      "912\n"
     ]
    }
   ],
   "source": [
    "f1 = open('F:\\\\Downloads\\\\all\\\\mono_sh_names.txt', 'r')\n",
    "mono_list = []\n",
    "for line in f1:\n",
    "    mono_list.append(line[:len(line)-1])\n",
    "mono_list[len(mono_list)-1] = mono_list[len(mono_list)-1] + 'g'\n",
    "print(len(mono_list))"
   ]
  },
  {
   "cell_type": "code",
   "execution_count": 8,
   "metadata": {},
   "outputs": [],
   "source": [
    "mono_pred = pd.read_csv('F:\\\\Downloads\\\\all\\\\Submissions\\\\Test_train\\\\ResNet_mono_finetune_v2.csv')"
   ]
  },
  {
   "cell_type": "code",
   "execution_count": 9,
   "metadata": {},
   "outputs": [],
   "source": [
    "errors_2 = 0\n",
    "errors_1 = 0\n",
    "mono = pd.DataFrame()\n",
    "for c_img in mono_pred.ImageId.unique():\n",
    "    if c_img not in mono_list:\n",
    "        if isinstance(mono_pred[mono_pred.ImageId == c_img].values[0][1], str):\n",
    "            errors_2 += 1\n",
    "    else:\n",
    "        if isinstance(mono_pred[mono_pred.ImageId == c_img].values[0][1], float):\n",
    "            errors_1 += 1\n",
    "        elif isinstance(mono_pred[mono_pred.ImageId == c_img].values[0][1], str):\n",
    "            mono = pd.concat([mono, mono_pred[mono_pred.ImageId == c_img]])"
   ]
  },
  {
   "cell_type": "code",
   "execution_count": 10,
   "metadata": {},
   "outputs": [
    {
     "data": {
      "text/plain": [
       "170"
      ]
     },
     "execution_count": 10,
     "metadata": {},
     "output_type": "execute_result"
    }
   ],
   "source": [
    "errors_2"
   ]
  },
  {
   "cell_type": "code",
   "execution_count": 11,
   "metadata": {},
   "outputs": [
    {
     "data": {
      "text/plain": [
       "89"
      ]
     },
     "execution_count": 11,
     "metadata": {},
     "output_type": "execute_result"
    }
   ],
   "source": [
    "errors_1"
   ]
  },
  {
   "cell_type": "code",
   "execution_count": 12,
   "metadata": {},
   "outputs": [
    {
     "data": {
      "text/plain": [
       "(1184, 2)"
      ]
     },
     "execution_count": 12,
     "metadata": {},
     "output_type": "execute_result"
    }
   ],
   "source": [
    "mono.shape"
   ]
  },
  {
   "cell_type": "code",
   "execution_count": 7,
   "metadata": {},
   "outputs": [],
   "source": [
    "mono.to_csv('F:\\\\Downloads\\\\all\\\\Submissions\\\\Test_train\\\\ResNet_mono(true)_finetune.csv', index=False)"
   ]
  },
  {
   "cell_type": "code",
   "execution_count": null,
   "metadata": {},
   "outputs": [],
   "source": []
  }
 ],
 "metadata": {
  "kernelspec": {
   "display_name": "Python 3",
   "language": "python",
   "name": "python3"
  },
  "language_info": {
   "codemirror_mode": {
    "name": "ipython",
    "version": 3
   },
   "file_extension": ".py",
   "mimetype": "text/x-python",
   "name": "python",
   "nbconvert_exporter": "python",
   "pygments_lexer": "ipython3",
   "version": "3.6.7"
  }
 },
 "nbformat": 4,
 "nbformat_minor": 2
}
