{
 "cells": [
  {
   "cell_type": "markdown",
   "metadata": {},
   "source": [
    "## Генерируем train выборки\n",
    "В данном ноутбуке класстеризуем изображения представленна в последней своей версии. Код класстеризации написан на matlab."
   ]
  },
  {
   "cell_type": "code",
   "execution_count": null,
   "metadata": {},
   "outputs": [],
   "source": [
    "import pandas as pd\n",
    "import numpy as np\n",
    "import os\n",
    "import matplotlib.pyplot as plt"
   ]
  },
  {
   "cell_type": "code",
   "execution_count": 2,
   "metadata": {},
   "outputs": [],
   "source": [
    "## csv файл с инофрмацией по каждому изображению\n",
    "train_data = pd.read_csv('F:\\\\Downloads\\\\all\\\\data_trains\\\\train_fin.csv')"
   ]
  },
  {
   "cell_type": "code",
   "execution_count": 3,
   "metadata": {},
   "outputs": [
    {
     "data": {
      "text/html": [
       "<div>\n",
       "<style scoped>\n",
       "    .dataframe tbody tr th:only-of-type {\n",
       "        vertical-align: middle;\n",
       "    }\n",
       "\n",
       "    .dataframe tbody tr th {\n",
       "        vertical-align: top;\n",
       "    }\n",
       "\n",
       "    .dataframe thead th {\n",
       "        text-align: right;\n",
       "    }\n",
       "</style>\n",
       "<table border=\"1\" class=\"dataframe\">\n",
       "  <thead>\n",
       "    <tr style=\"text-align: right;\">\n",
       "      <th></th>\n",
       "      <th>Unnamed: 0</th>\n",
       "      <th>SumSq</th>\n",
       "      <th>MaxSq</th>\n",
       "      <th>MinSq</th>\n",
       "      <th>Count</th>\n",
       "      <th>CA</th>\n",
       "      <th>CV</th>\n",
       "      <th>sBin</th>\n",
       "      <th>sBin50</th>\n",
       "      <th>CAblur</th>\n",
       "      <th>CVblur</th>\n",
       "      <th>Cor(RG)</th>\n",
       "      <th>Cor(RB)</th>\n",
       "      <th>class</th>\n",
       "      <th>ImageId</th>\n",
       "    </tr>\n",
       "  </thead>\n",
       "  <tbody>\n",
       "    <tr>\n",
       "      <th>0</th>\n",
       "      <td>0</td>\n",
       "      <td>0.0</td>\n",
       "      <td>0.0</td>\n",
       "      <td>0.0</td>\n",
       "      <td>0.0</td>\n",
       "      <td>139.990</td>\n",
       "      <td>3.6789</td>\n",
       "      <td>0.000000</td>\n",
       "      <td>0.000000</td>\n",
       "      <td>139.970</td>\n",
       "      <td>3.1316</td>\n",
       "      <td>14.9980</td>\n",
       "      <td>19.258</td>\n",
       "      <td>1.0</td>\n",
       "      <td>0001124c7.jpg</td>\n",
       "    </tr>\n",
       "    <tr>\n",
       "      <th>1</th>\n",
       "      <td>1</td>\n",
       "      <td>3388.0</td>\n",
       "      <td>3388.0</td>\n",
       "      <td>3388.0</td>\n",
       "      <td>1.0</td>\n",
       "      <td>82.584</td>\n",
       "      <td>5.7161</td>\n",
       "      <td>0.002942</td>\n",
       "      <td>0.000902</td>\n",
       "      <td>82.582</td>\n",
       "      <td>1.5516</td>\n",
       "      <td>14.6580</td>\n",
       "      <td>36.020</td>\n",
       "      <td>1.0</td>\n",
       "      <td>000155de5.jpg</td>\n",
       "    </tr>\n",
       "    <tr>\n",
       "      <th>2</th>\n",
       "      <td>2</td>\n",
       "      <td>1460.0</td>\n",
       "      <td>7.0</td>\n",
       "      <td>648.0</td>\n",
       "      <td>5.0</td>\n",
       "      <td>111.080</td>\n",
       "      <td>23.9150</td>\n",
       "      <td>0.297230</td>\n",
       "      <td>0.060633</td>\n",
       "      <td>111.040</td>\n",
       "      <td>22.2830</td>\n",
       "      <td>7.3184</td>\n",
       "      <td>27.043</td>\n",
       "      <td>4.0</td>\n",
       "      <td>000194a2d.jpg</td>\n",
       "    </tr>\n",
       "    <tr>\n",
       "      <th>3</th>\n",
       "      <td>3</td>\n",
       "      <td>0.0</td>\n",
       "      <td>0.0</td>\n",
       "      <td>0.0</td>\n",
       "      <td>0.0</td>\n",
       "      <td>135.960</td>\n",
       "      <td>5.6973</td>\n",
       "      <td>0.000000</td>\n",
       "      <td>0.000000</td>\n",
       "      <td>135.970</td>\n",
       "      <td>5.0858</td>\n",
       "      <td>33.1170</td>\n",
       "      <td>35.736</td>\n",
       "      <td>1.0</td>\n",
       "      <td>0001b1832.jpg</td>\n",
       "    </tr>\n",
       "    <tr>\n",
       "      <th>4</th>\n",
       "      <td>4</td>\n",
       "      <td>1176.0</td>\n",
       "      <td>18.0</td>\n",
       "      <td>424.0</td>\n",
       "      <td>9.0</td>\n",
       "      <td>100.400</td>\n",
       "      <td>29.3370</td>\n",
       "      <td>0.432190</td>\n",
       "      <td>0.113820</td>\n",
       "      <td>100.470</td>\n",
       "      <td>17.5960</td>\n",
       "      <td>11.0410</td>\n",
       "      <td>30.274</td>\n",
       "      <td>5.0</td>\n",
       "      <td>00021ddc3.jpg</td>\n",
       "    </tr>\n",
       "  </tbody>\n",
       "</table>\n",
       "</div>"
      ],
      "text/plain": [
       "   Unnamed: 0   SumSq   MaxSq   MinSq  Count       CA       CV      sBin  \\\n",
       "0           0     0.0     0.0     0.0    0.0  139.990   3.6789  0.000000   \n",
       "1           1  3388.0  3388.0  3388.0    1.0   82.584   5.7161  0.002942   \n",
       "2           2  1460.0     7.0   648.0    5.0  111.080  23.9150  0.297230   \n",
       "3           3     0.0     0.0     0.0    0.0  135.960   5.6973  0.000000   \n",
       "4           4  1176.0    18.0   424.0    9.0  100.400  29.3370  0.432190   \n",
       "\n",
       "     sBin50   CAblur   CVblur  Cor(RG)  Cor(RB)  class        ImageId  \n",
       "0  0.000000  139.970   3.1316  14.9980   19.258    1.0  0001124c7.jpg  \n",
       "1  0.000902   82.582   1.5516  14.6580   36.020    1.0  000155de5.jpg  \n",
       "2  0.060633  111.040  22.2830   7.3184   27.043    4.0  000194a2d.jpg  \n",
       "3  0.000000  135.970   5.0858  33.1170   35.736    1.0  0001b1832.jpg  \n",
       "4  0.113820  100.470  17.5960  11.0410   30.274    5.0  00021ddc3.jpg  "
      ]
     },
     "execution_count": 3,
     "metadata": {},
     "output_type": "execute_result"
    }
   ],
   "source": [
    "\"\"\"\n",
    "Информация представленна в виде:\n",
    "\n",
    "SumSq - суммарная площадь кораблей\n",
    "MaxSq - максимальная площадь корабля на фото\n",
    "MinSq - минимальная площадь корабля на фото \n",
    "Count - количество кораблей на фото \n",
    "CA - средняя освещенность\n",
    "CV - среднее отклонение от средней освещенности\n",
    "sBin - площадь после бинаризации по порогу в 30 пикселей\n",
    "sBin50 - площадь после бинаризации по порогу в 50 пикселей\n",
    "CAblur - средняя освещенность после блюра\n",
    "CVblur - среднее отклоненение после блюра\n",
    "Cor(RG) - кореляция R и G каналов изображений \n",
    "Cor(RB) - кореляция R и B каналов изображений\n",
    "class - класс изображения (1 - mono, 2 - simple, 3 - motley, 4 - cloud, 5 - view)\n",
    "ImageId - имя фото \n",
    "\n",
    "\"\"\"\n",
    "\n",
    "train_data.head()"
   ]
  },
  {
   "cell_type": "markdown",
   "metadata": {},
   "source": [
    "## Dataset под задачу simple НС 1\n",
    "Датасет представляет из себя комбинацию кораблей из класса simple по порогу максимальной и минимальной площади кораблей"
   ]
  },
  {
   "cell_type": "code",
   "execution_count": 25,
   "metadata": {},
   "outputs": [],
   "source": [
    "mono = train_data[train_data['class'] == 1.0]\n",
    "mono = mono[mono['Count'] > 0] \n",
    "mono = mono[mono['MaxSq'] < 2000] \n",
    "mono = mono[mono['MinSq'] > 60] "
   ]
  },
  {
   "cell_type": "code",
   "execution_count": 26,
   "metadata": {},
   "outputs": [
    {
     "data": {
      "text/plain": [
       "(9952, 15)"
      ]
     },
     "execution_count": 26,
     "metadata": {},
     "output_type": "execute_result"
    }
   ],
   "source": [
    "mono.shape"
   ]
  },
  {
   "cell_type": "code",
   "execution_count": 23,
   "metadata": {},
   "outputs": [],
   "source": [
    "small_simple = train_data[train_data['class'] == 2.0]\n",
    "small_simple = small_simple[small_simple['Count'] > 1]\n",
    "small_simple = small_simple[small_simple['MaxSq'] < 2000]\n",
    "small_simple = small_simple[small_simple['MinSq'] > 60]"
   ]
  },
  {
   "cell_type": "code",
   "execution_count": 24,
   "metadata": {},
   "outputs": [
    {
     "data": {
      "text/plain": [
       "(6161, 15)"
      ]
     },
     "execution_count": 24,
     "metadata": {},
     "output_type": "execute_result"
    }
   ],
   "source": [
    "small_simple.shape"
   ]
  },
  {
   "cell_type": "code",
   "execution_count": 13,
   "metadata": {},
   "outputs": [
    {
     "data": {
      "text/plain": [
       "(21935, 15)"
      ]
     },
     "execution_count": 13,
     "metadata": {},
     "output_type": "execute_result"
    }
   ],
   "source": [
    "SMALL_SHIPS = pd.concat([mono, small_simple])\n",
    "SMALL_SHIPS.shape"
   ]
  },
  {
   "cell_type": "code",
   "execution_count": 6,
   "metadata": {},
   "outputs": [],
   "source": [
    "simple = train_data[train_data['class'] == 2.0]\n",
    "simple = simple[simple['SumSq'] > 200]\n",
    "simple = simple[simple['SumSq'] < 16000]"
   ]
  },
  {
   "cell_type": "code",
   "execution_count": 7,
   "metadata": {},
   "outputs": [
    {
     "data": {
      "text/plain": [
       "(14552, 15)"
      ]
     },
     "execution_count": 7,
     "metadata": {},
     "output_type": "execute_result"
    }
   ],
   "source": [
    "simple.shape"
   ]
  },
  {
   "cell_type": "code",
   "execution_count": 81,
   "metadata": {},
   "outputs": [],
   "source": [
    "SIMPLE_TRAIN = pd.concat([simple])"
   ]
  },
  {
   "cell_type": "markdown",
   "metadata": {},
   "source": [
    "## Dataset под задачу port НС 2"
   ]
  },
  {
   "cell_type": "code",
   "execution_count": 11,
   "metadata": {},
   "outputs": [],
   "source": [
    "port = train_data[train_data['class'] == 4.0]\n",
    "port = port[port['Count'] > 0]"
   ]
  },
  {
   "cell_type": "code",
   "execution_count": 12,
   "metadata": {},
   "outputs": [
    {
     "data": {
      "text/plain": [
       "(3313, 15)"
      ]
     },
     "execution_count": 12,
     "metadata": {},
     "output_type": "execute_result"
    }
   ],
   "source": [
    "port.shape"
   ]
  },
  {
   "cell_type": "code",
   "execution_count": 13,
   "metadata": {},
   "outputs": [
    {
     "data": {
      "text/plain": [
       "<matplotlib.axes._subplots.AxesSubplot at 0x25a63d6b668>"
      ]
     },
     "execution_count": 13,
     "metadata": {},
     "output_type": "execute_result"
    },
    {
     "data": {
      "image/png": "[encoded data removed]",
      "text/plain": [
       "<Figure size 432x288 with 1 Axes>"
      ]
     },
     "metadata": {
      "needs_background": "light"
     },
     "output_type": "display_data"
    }
   ],
   "source": [
    "view_ship = train_data[train_data['class'] == 5.0]\n",
    "\n",
    "view_ship['MaxSq'].hist()"
   ]
  },
  {
   "cell_type": "code",
   "execution_count": 14,
   "metadata": {},
   "outputs": [],
   "source": [
    "view_ship = view_ship[view_ship['Count'] > 0]"
   ]
  },
  {
   "cell_type": "code",
   "execution_count": 40,
   "metadata": {},
   "outputs": [
    {
     "data": {
      "text/plain": [
       "(2621, 15)"
      ]
     },
     "execution_count": 40,
     "metadata": {},
     "output_type": "execute_result"
    }
   ],
   "source": [
    "view_ship.shape"
   ]
  },
  {
   "cell_type": "code",
   "execution_count": 130,
   "metadata": {},
   "outputs": [],
   "source": [
    "view = train_data[train_data['class'] == 5.0]\n",
    "view = view[view['Count'] == 0]"
   ]
  },
  {
   "cell_type": "code",
   "execution_count": 131,
   "metadata": {},
   "outputs": [
    {
     "data": {
      "text/plain": [
       "(6411, 15)"
      ]
     },
     "execution_count": 131,
     "metadata": {},
     "output_type": "execute_result"
    }
   ],
   "source": [
    "view.shape"
   ]
  },
  {
   "cell_type": "code",
   "execution_count": 17,
   "metadata": {},
   "outputs": [
    {
     "data": {
      "text/plain": [
       "(6865, 15)"
      ]
     },
     "execution_count": 17,
     "metadata": {},
     "output_type": "execute_result"
    }
   ],
   "source": [
    "PORT = pd.concat([port, view_ship])\n",
    "PORT.shape"
   ]
  },
  {
   "cell_type": "code",
   "execution_count": 18,
   "metadata": {},
   "outputs": [
    {
     "name": "stdout",
     "output_type": "stream",
     "text": [
      "(10490, 15)\n",
      "(1734, 15)\n"
     ]
    }
   ],
   "source": [
    "simple_rand = train_data[train_data['class'] == 2.0]\n",
    "simple_rand_1 = simple_rand[simple_rand['MinSq'] < 2000]\n",
    "simple_rand_1 = simple_rand_1[simple_rand_1['Count'] != 0]\n",
    "print(simple_rand_1.shape)\n",
    "simple_rand_2 = simple_rand[simple_rand['MaxSq'] > 8000]\n",
    "simple_rand_2 = simple_rand_2[simple_rand_2['Count'] != 0]\n",
    "print(simple_rand_2.shape)"
   ]
  },
  {
   "cell_type": "code",
   "execution_count": 19,
   "metadata": {},
   "outputs": [],
   "source": [
    "simple = pd.concat([simple_rand_1, simple_rand_2])"
   ]
  },
  {
   "cell_type": "code",
   "execution_count": 20,
   "metadata": {},
   "outputs": [
    {
     "data": {
      "text/html": [
       "<div>\n",
       "<style scoped>\n",
       "    .dataframe tbody tr th:only-of-type {\n",
       "        vertical-align: middle;\n",
       "    }\n",
       "\n",
       "    .dataframe tbody tr th {\n",
       "        vertical-align: top;\n",
       "    }\n",
       "\n",
       "    .dataframe thead th {\n",
       "        text-align: right;\n",
       "    }\n",
       "</style>\n",
       "<table border=\"1\" class=\"dataframe\">\n",
       "  <thead>\n",
       "    <tr style=\"text-align: right;\">\n",
       "      <th></th>\n",
       "      <th>Unnamed: 0</th>\n",
       "      <th>SumSq</th>\n",
       "      <th>MaxSq</th>\n",
       "      <th>MinSq</th>\n",
       "      <th>Count</th>\n",
       "      <th>CA</th>\n",
       "      <th>CV</th>\n",
       "      <th>sBin</th>\n",
       "      <th>sBin50</th>\n",
       "      <th>CAblur</th>\n",
       "      <th>CVblur</th>\n",
       "      <th>Cor(RG)</th>\n",
       "      <th>Cor(RB)</th>\n",
       "      <th>class</th>\n",
       "      <th>ImageId</th>\n",
       "    </tr>\n",
       "  </thead>\n",
       "  <tbody>\n",
       "    <tr>\n",
       "      <th>5</th>\n",
       "      <td>5</td>\n",
       "      <td>408.0</td>\n",
       "      <td>189.0</td>\n",
       "      <td>219.0</td>\n",
       "      <td>2.0</td>\n",
       "      <td>99.086</td>\n",
       "      <td>11.7800</td>\n",
       "      <td>0.047919</td>\n",
       "      <td>0.003248</td>\n",
       "      <td>99.111</td>\n",
       "      <td>1.6562</td>\n",
       "      <td>17.9300</td>\n",
       "      <td>18.2210</td>\n",
       "      <td>2.0</td>\n",
       "      <td>0002756f7.jpg</td>\n",
       "    </tr>\n",
       "    <tr>\n",
       "      <th>11</th>\n",
       "      <td>11</td>\n",
       "      <td>174.0</td>\n",
       "      <td>174.0</td>\n",
       "      <td>174.0</td>\n",
       "      <td>1.0</td>\n",
       "      <td>67.734</td>\n",
       "      <td>14.4280</td>\n",
       "      <td>0.098804</td>\n",
       "      <td>0.009889</td>\n",
       "      <td>67.747</td>\n",
       "      <td>2.3199</td>\n",
       "      <td>8.0682</td>\n",
       "      <td>12.3180</td>\n",
       "      <td>2.0</td>\n",
       "      <td>00053c6ba.jpg</td>\n",
       "    </tr>\n",
       "    <tr>\n",
       "      <th>35</th>\n",
       "      <td>35</td>\n",
       "      <td>360.0</td>\n",
       "      <td>360.0</td>\n",
       "      <td>360.0</td>\n",
       "      <td>1.0</td>\n",
       "      <td>157.680</td>\n",
       "      <td>12.5420</td>\n",
       "      <td>0.062174</td>\n",
       "      <td>0.003635</td>\n",
       "      <td>157.730</td>\n",
       "      <td>5.1399</td>\n",
       "      <td>11.9610</td>\n",
       "      <td>4.4535</td>\n",
       "      <td>2.0</td>\n",
       "      <td>000e6378b.jpg</td>\n",
       "    </tr>\n",
       "    <tr>\n",
       "      <th>91</th>\n",
       "      <td>91</td>\n",
       "      <td>182.0</td>\n",
       "      <td>182.0</td>\n",
       "      <td>182.0</td>\n",
       "      <td>1.0</td>\n",
       "      <td>27.442</td>\n",
       "      <td>6.7861</td>\n",
       "      <td>0.006807</td>\n",
       "      <td>0.001616</td>\n",
       "      <td>27.435</td>\n",
       "      <td>1.7815</td>\n",
       "      <td>7.3517</td>\n",
       "      <td>16.0970</td>\n",
       "      <td>2.0</td>\n",
       "      <td>001eb2794.jpg</td>\n",
       "    </tr>\n",
       "    <tr>\n",
       "      <th>102</th>\n",
       "      <td>102</td>\n",
       "      <td>845.0</td>\n",
       "      <td>845.0</td>\n",
       "      <td>845.0</td>\n",
       "      <td>1.0</td>\n",
       "      <td>166.620</td>\n",
       "      <td>14.1050</td>\n",
       "      <td>0.089988</td>\n",
       "      <td>0.006648</td>\n",
       "      <td>166.630</td>\n",
       "      <td>4.1033</td>\n",
       "      <td>16.5240</td>\n",
       "      <td>8.0499</td>\n",
       "      <td>2.0</td>\n",
       "      <td>0022f64e5.jpg</td>\n",
       "    </tr>\n",
       "  </tbody>\n",
       "</table>\n",
       "</div>"
      ],
      "text/plain": [
       "     Unnamed: 0  SumSq  MaxSq  MinSq  Count       CA       CV      sBin  \\\n",
       "5             5  408.0  189.0  219.0    2.0   99.086  11.7800  0.047919   \n",
       "11           11  174.0  174.0  174.0    1.0   67.734  14.4280  0.098804   \n",
       "35           35  360.0  360.0  360.0    1.0  157.680  12.5420  0.062174   \n",
       "91           91  182.0  182.0  182.0    1.0   27.442   6.7861  0.006807   \n",
       "102         102  845.0  845.0  845.0    1.0  166.620  14.1050  0.089988   \n",
       "\n",
       "       sBin50   CAblur  CVblur  Cor(RG)  Cor(RB)  class        ImageId  \n",
       "5    0.003248   99.111  1.6562  17.9300  18.2210    2.0  0002756f7.jpg  \n",
       "11   0.009889   67.747  2.3199   8.0682  12.3180    2.0  00053c6ba.jpg  \n",
       "35   0.003635  157.730  5.1399  11.9610   4.4535    2.0  000e6378b.jpg  \n",
       "91   0.001616   27.435  1.7815   7.3517  16.0970    2.0  001eb2794.jpg  \n",
       "102  0.006648  166.630  4.1033  16.5240   8.0499    2.0  0022f64e5.jpg  "
      ]
     },
     "execution_count": 20,
     "metadata": {},
     "output_type": "execute_result"
    }
   ],
   "source": [
    "simple_values = simple.values\n",
    "simple.head()"
   ]
  },
  {
   "cell_type": "code",
   "execution_count": 21,
   "metadata": {},
   "outputs": [],
   "source": [
    "rand_simple = []\n",
    "for i in range(0,simple_values.shape[0],3):\n",
    "    rand_simple.append(simple_values[i][1:])"
   ]
  },
  {
   "cell_type": "code",
   "execution_count": 22,
   "metadata": {},
   "outputs": [],
   "source": [
    "rand_simple = pd.DataFrame(rand_simple, columns=['SumSq', 'MaxSq', 'MinSq', 'Count', 'CA', 'CV',\n",
    "                             'sBin', 'sBin50', 'CAblur', 'CVblur', 'Cor(RG)',\n",
    "                             'Cor(RB)', 'class', 'ImageId'])"
   ]
  },
  {
   "cell_type": "code",
   "execution_count": 23,
   "metadata": {},
   "outputs": [
    {
     "name": "stdout",
     "output_type": "stream",
     "text": [
      "(4075, 14)\n"
     ]
    },
    {
     "data": {
      "text/html": [
       "<div>\n",
       "<style scoped>\n",
       "    .dataframe tbody tr th:only-of-type {\n",
       "        vertical-align: middle;\n",
       "    }\n",
       "\n",
       "    .dataframe tbody tr th {\n",
       "        vertical-align: top;\n",
       "    }\n",
       "\n",
       "    .dataframe thead th {\n",
       "        text-align: right;\n",
       "    }\n",
       "</style>\n",
       "<table border=\"1\" class=\"dataframe\">\n",
       "  <thead>\n",
       "    <tr style=\"text-align: right;\">\n",
       "      <th></th>\n",
       "      <th>SumSq</th>\n",
       "      <th>MaxSq</th>\n",
       "      <th>MinSq</th>\n",
       "      <th>Count</th>\n",
       "      <th>CA</th>\n",
       "      <th>CV</th>\n",
       "      <th>sBin</th>\n",
       "      <th>sBin50</th>\n",
       "      <th>CAblur</th>\n",
       "      <th>CVblur</th>\n",
       "      <th>Cor(RG)</th>\n",
       "      <th>Cor(RB)</th>\n",
       "      <th>class</th>\n",
       "      <th>ImageId</th>\n",
       "    </tr>\n",
       "  </thead>\n",
       "  <tbody>\n",
       "    <tr>\n",
       "      <th>0</th>\n",
       "      <td>408.0</td>\n",
       "      <td>189.0</td>\n",
       "      <td>219.0</td>\n",
       "      <td>2.0</td>\n",
       "      <td>99.086</td>\n",
       "      <td>11.7800</td>\n",
       "      <td>0.047919</td>\n",
       "      <td>0.003248</td>\n",
       "      <td>99.111</td>\n",
       "      <td>1.6562</td>\n",
       "      <td>17.9300</td>\n",
       "      <td>18.221</td>\n",
       "      <td>2.0</td>\n",
       "      <td>0002756f7.jpg</td>\n",
       "    </tr>\n",
       "    <tr>\n",
       "      <th>1</th>\n",
       "      <td>182.0</td>\n",
       "      <td>182.0</td>\n",
       "      <td>182.0</td>\n",
       "      <td>1.0</td>\n",
       "      <td>27.442</td>\n",
       "      <td>6.7861</td>\n",
       "      <td>0.006807</td>\n",
       "      <td>0.001616</td>\n",
       "      <td>27.435</td>\n",
       "      <td>1.7815</td>\n",
       "      <td>7.3517</td>\n",
       "      <td>16.097</td>\n",
       "      <td>2.0</td>\n",
       "      <td>001eb2794.jpg</td>\n",
       "    </tr>\n",
       "    <tr>\n",
       "      <th>2</th>\n",
       "      <td>184.0</td>\n",
       "      <td>184.0</td>\n",
       "      <td>184.0</td>\n",
       "      <td>1.0</td>\n",
       "      <td>31.608</td>\n",
       "      <td>6.0073</td>\n",
       "      <td>0.005664</td>\n",
       "      <td>0.000597</td>\n",
       "      <td>31.610</td>\n",
       "      <td>1.1078</td>\n",
       "      <td>2.5158</td>\n",
       "      <td>10.863</td>\n",
       "      <td>2.0</td>\n",
       "      <td>002c62c03.jpg</td>\n",
       "    </tr>\n",
       "    <tr>\n",
       "      <th>3</th>\n",
       "      <td>427.0</td>\n",
       "      <td>427.0</td>\n",
       "      <td>427.0</td>\n",
       "      <td>1.0</td>\n",
       "      <td>39.119</td>\n",
       "      <td>14.2060</td>\n",
       "      <td>0.082884</td>\n",
       "      <td>0.004025</td>\n",
       "      <td>39.124</td>\n",
       "      <td>2.2033</td>\n",
       "      <td>19.0950</td>\n",
       "      <td>26.077</td>\n",
       "      <td>2.0</td>\n",
       "      <td>004e68ede.jpg</td>\n",
       "    </tr>\n",
       "    <tr>\n",
       "      <th>4</th>\n",
       "      <td>2586.0</td>\n",
       "      <td>207.0</td>\n",
       "      <td>1690.0</td>\n",
       "      <td>3.0</td>\n",
       "      <td>62.934</td>\n",
       "      <td>6.4666</td>\n",
       "      <td>0.013791</td>\n",
       "      <td>0.001623</td>\n",
       "      <td>62.957</td>\n",
       "      <td>3.0592</td>\n",
       "      <td>22.6290</td>\n",
       "      <td>16.231</td>\n",
       "      <td>2.0</td>\n",
       "      <td>0068b3804.jpg</td>\n",
       "    </tr>\n",
       "  </tbody>\n",
       "</table>\n",
       "</div>"
      ],
      "text/plain": [
       "    SumSq  MaxSq   MinSq  Count      CA       CV      sBin    sBin50  CAblur  \\\n",
       "0   408.0  189.0   219.0    2.0  99.086  11.7800  0.047919  0.003248  99.111   \n",
       "1   182.0  182.0   182.0    1.0  27.442   6.7861  0.006807  0.001616  27.435   \n",
       "2   184.0  184.0   184.0    1.0  31.608   6.0073  0.005664  0.000597  31.610   \n",
       "3   427.0  427.0   427.0    1.0  39.119  14.2060  0.082884  0.004025  39.124   \n",
       "4  2586.0  207.0  1690.0    3.0  62.934   6.4666  0.013791  0.001623  62.957   \n",
       "\n",
       "   CVblur  Cor(RG)  Cor(RB)  class        ImageId  \n",
       "0  1.6562  17.9300   18.221    2.0  0002756f7.jpg  \n",
       "1  1.7815   7.3517   16.097    2.0  001eb2794.jpg  \n",
       "2  1.1078   2.5158   10.863    2.0  002c62c03.jpg  \n",
       "3  2.2033  19.0950   26.077    2.0  004e68ede.jpg  \n",
       "4  3.0592  22.6290   16.231    2.0  0068b3804.jpg  "
      ]
     },
     "execution_count": 23,
     "metadata": {},
     "output_type": "execute_result"
    }
   ],
   "source": [
    "print(rand_simple.shape)\n",
    "rand_simple.head()"
   ]
  },
  {
   "cell_type": "code",
   "execution_count": 24,
   "metadata": {},
   "outputs": [],
   "source": [
    "PORT_TRAIN = pd.concat([port, view_ship], sort=False)"
   ]
  },
  {
   "cell_type": "code",
   "execution_count": 25,
   "metadata": {
    "scrolled": true
   },
   "outputs": [
    {
     "data": {
      "text/plain": [
       "(6865, 15)"
      ]
     },
     "execution_count": 25,
     "metadata": {},
     "output_type": "execute_result"
    }
   ],
   "source": [
    "PORT_TRAIN.shape"
   ]
  },
  {
   "cell_type": "markdown",
   "metadata": {},
   "source": [
    "# Созадим csv формат для обучения "
   ]
  },
  {
   "cell_type": "code",
   "execution_count": 14,
   "metadata": {},
   "outputs": [],
   "source": [
    "# имена для train\n",
    "images = SMALL_SHIPS.ImageId.values\n",
    "# исходное csv для всех изображений \n",
    "masks = pd.read_csv('F:\\\\Downloads\\\\all\\\\train_ship_segmentations_v2.csv')"
   ]
  },
  {
   "cell_type": "code",
   "execution_count": 15,
   "metadata": {},
   "outputs": [
    {
     "name": "stdout",
     "output_type": "stream",
     "text": [
      "21935\n",
      "Processing 0 thousand images\n",
      "Processing 1 thousand images\n",
      "Processing 2 thousand images\n",
      "Processing 3 thousand images\n",
      "Processing 4 thousand images\n",
      "Processing 5 thousand images\n",
      "Processing 6 thousand images\n",
      "Processing 7 thousand images\n",
      "Processing 8 thousand images\n",
      "Processing 9 thousand images\n",
      "Processing 10 thousand images\n",
      "Processing 11 thousand images\n",
      "Processing 12 thousand images\n",
      "Processing 13 thousand images\n",
      "Processing 14 thousand images\n",
      "Processing 15 thousand images\n",
      "Processing 16 thousand images\n",
      "Processing 17 thousand images\n",
      "Processing 18 thousand images\n",
      "Processing 19 thousand images\n",
      "Processing 20 thousand images\n",
      "Processing 21 thousand images\n",
      "Wall time: 4min 37s\n"
     ]
    }
   ],
   "source": [
    "%%time\n",
    "data = masks.values\n",
    "new_data = []\n",
    "print(len(images))\n",
    "\n",
    "for i in range(len(images)):\n",
    "    if i % 1000 == 0:\n",
    "        print('Processing {} thousand images'.format(i // 1000))\n",
    "    c_img = images[i]\n",
    "    rows, _ = np.where(data == c_img)\n",
    "    for j in range(data[rows].shape[0]):\n",
    "        new_data.append(data[rows][j])"
   ]
  },
  {
   "cell_type": "code",
   "execution_count": 16,
   "metadata": {},
   "outputs": [],
   "source": [
    "data_csv = pd.DataFrame(new_data, columns=['ImageId', 'EncodedPixels'])\n",
    "name_file = 'small_mono_v1.csv'\n",
    "data_csv.to_csv('F:\\\\Downloads\\\\all\\\\data_trains\\\\' + name_file)"
   ]
  },
  {
   "cell_type": "code",
   "execution_count": 163,
   "metadata": {},
   "outputs": [],
   "source": [
    "test = pd.read_csv('F:\\\\Downloads\\\\all\\\\data_trains\\\\port_train_v2.csv')"
   ]
  },
  {
   "cell_type": "code",
   "execution_count": 168,
   "metadata": {},
   "outputs": [
    {
     "data": {
      "text/plain": [
       "14288"
      ]
     },
     "execution_count": 168,
     "metadata": {},
     "output_type": "execute_result"
    }
   ],
   "source": [
    "len(list(set(test.ImageId)))"
   ]
  },
  {
   "cell_type": "code",
   "execution_count": null,
   "metadata": {},
   "outputs": [],
   "source": []
  }
 ],
 "metadata": {
  "kernelspec": {
   "display_name": "Python 3",
   "language": "python",
   "name": "python3"
  },
  "language_info": {
   "codemirror_mode": {
    "name": "ipython",
    "version": 3
   },
   "file_extension": ".py",
   "mimetype": "text/x-python",
   "name": "python",
   "nbconvert_exporter": "python",
   "pygments_lexer": "ipython3",
   "version": "3.6.6"
  }
 },
 "nbformat": 4,
 "nbformat_minor": 2
}
