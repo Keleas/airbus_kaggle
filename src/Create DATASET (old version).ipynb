{
 "cells": [
  {
   "cell_type": "markdown",
   "metadata": {},
   "source": [
    "## Генерируем train выборки\n",
    "В данном ноутбуке класстеризуем изображения и выбираем необходимые для конкретной задачи обучения.\n",
    "По большей части ноутбук является устаревшим, т.к. класстеризация была усовершеноствованна.\n",
    "\n",
    "\n",
    "\n",
    "## Создание выборки из кораблей\n",
    "Выборка для обучения на средних и маленьких коряблях\n",
    "Изображения не содеражат пейзажей и портов. Фон однотонный + изображения без кораблей с ребристым фоном - гребни волн."
   ]
  },
  {
   "cell_type": "code",
   "execution_count": 2,
   "metadata": {},
   "outputs": [],
   "source": [
    "from PIL import Image\n",
    "from scipy import ndimage\n",
    "import pandas as pd # data processing, CSV file I/O (e.g. pd.read_csv)\n",
    "from skimage.data import imread\n",
    "import numpy as np\n",
    "import matplotlib.pyplot as plt\n",
    "import os\n",
    "import time\n",
    "#TEST\n",
    "\n",
    "def rle_decode(mask_rle, shape=(768, 768)):\n",
    "    '''\n",
    "    mask_rle: run-length as string formated (start length)\n",
    "    shape: (height,width) of array to return \n",
    "    Returns numpy array, 1 - mask, 0 - background\n",
    "\n",
    "    '''\n",
    "    if isinstance(mask_rle, float):\n",
    "        return 0\n",
    "    s = mask_rle.split()\n",
    "    starts, lengths = [np.asarray(x, dtype=int) for x in (s[0:][::2], s[1:][::2])]\n",
    "    starts -= 1\n",
    "    ends = starts + lengths\n",
    "    img = np.zeros(shape[0]*shape[1], dtype=np.uint8)\n",
    "    for lo, hi in zip(starts, ends):\n",
    "        img[lo:hi] = 1\n",
    "    return img.reshape(shape).T  # Needed to align to RLE direction\n"
   ]
  },
  {
   "cell_type": "code",
   "execution_count": 3,
   "metadata": {},
   "outputs": [
    {
     "data": {
      "text/html": [
       "<div>\n",
       "<style scoped>\n",
       "    .dataframe tbody tr th:only-of-type {\n",
       "        vertical-align: middle;\n",
       "    }\n",
       "\n",
       "    .dataframe tbody tr th {\n",
       "        vertical-align: top;\n",
       "    }\n",
       "\n",
       "    .dataframe thead th {\n",
       "        text-align: right;\n",
       "    }\n",
       "</style>\n",
       "<table border=\"1\" class=\"dataframe\">\n",
       "  <thead>\n",
       "    <tr style=\"text-align: right;\">\n",
       "      <th></th>\n",
       "      <th>ImageId</th>\n",
       "      <th>EncodedPixels</th>\n",
       "    </tr>\n",
       "  </thead>\n",
       "  <tbody>\n",
       "    <tr>\n",
       "      <th>0</th>\n",
       "      <td>00003e153.jpg</td>\n",
       "      <td>NaN</td>\n",
       "    </tr>\n",
       "    <tr>\n",
       "      <th>1</th>\n",
       "      <td>0001124c7.jpg</td>\n",
       "      <td>NaN</td>\n",
       "    </tr>\n",
       "    <tr>\n",
       "      <th>2</th>\n",
       "      <td>000155de5.jpg</td>\n",
       "      <td>264661 17 265429 33 266197 33 266965 33 267733...</td>\n",
       "    </tr>\n",
       "    <tr>\n",
       "      <th>3</th>\n",
       "      <td>000194a2d.jpg</td>\n",
       "      <td>360486 1 361252 4 362019 5 362785 8 363552 10 ...</td>\n",
       "    </tr>\n",
       "    <tr>\n",
       "      <th>4</th>\n",
       "      <td>000194a2d.jpg</td>\n",
       "      <td>51834 9 52602 9 53370 9 54138 9 54906 9 55674 ...</td>\n",
       "    </tr>\n",
       "  </tbody>\n",
       "</table>\n",
       "</div>"
      ],
      "text/plain": [
       "         ImageId                                      EncodedPixels\n",
       "0  00003e153.jpg                                                NaN\n",
       "1  0001124c7.jpg                                                NaN\n",
       "2  000155de5.jpg  264661 17 265429 33 266197 33 266965 33 267733...\n",
       "3  000194a2d.jpg  360486 1 361252 4 362019 5 362785 8 363552 10 ...\n",
       "4  000194a2d.jpg  51834 9 52602 9 53370 9 54138 9 54906 9 55674 ..."
      ]
     },
     "execution_count": 3,
     "metadata": {},
     "output_type": "execute_result"
    }
   ],
   "source": [
    "masks = pd.read_csv('F:\\\\Downloads\\\\all\\\\train_ship_segmentations_v2.csv')\n",
    "masks.head()"
   ]
  },
  {
   "cell_type": "code",
   "execution_count": 6,
   "metadata": {},
   "outputs": [
    {
     "data": {
      "text/html": [
       "<div>\n",
       "<style scoped>\n",
       "    .dataframe tbody tr th:only-of-type {\n",
       "        vertical-align: middle;\n",
       "    }\n",
       "\n",
       "    .dataframe tbody tr th {\n",
       "        vertical-align: top;\n",
       "    }\n",
       "\n",
       "    .dataframe thead th {\n",
       "        text-align: right;\n",
       "    }\n",
       "</style>\n",
       "<table border=\"1\" class=\"dataframe\">\n",
       "  <thead>\n",
       "    <tr style=\"text-align: right;\">\n",
       "      <th></th>\n",
       "      <th>ImageId</th>\n",
       "      <th>EncodedPixels</th>\n",
       "      <th>ships</th>\n",
       "    </tr>\n",
       "  </thead>\n",
       "  <tbody>\n",
       "    <tr>\n",
       "      <th>0</th>\n",
       "      <td>00003e153.jpg</td>\n",
       "      <td>NaN</td>\n",
       "      <td>0</td>\n",
       "    </tr>\n",
       "    <tr>\n",
       "      <th>1</th>\n",
       "      <td>0001124c7.jpg</td>\n",
       "      <td>NaN</td>\n",
       "      <td>0</td>\n",
       "    </tr>\n",
       "    <tr>\n",
       "      <th>2</th>\n",
       "      <td>000155de5.jpg</td>\n",
       "      <td>264661 17 265429 33 266197 33 266965 33 267733...</td>\n",
       "      <td>1</td>\n",
       "    </tr>\n",
       "    <tr>\n",
       "      <th>3</th>\n",
       "      <td>000194a2d.jpg</td>\n",
       "      <td>360486 1 361252 4 362019 5 362785 8 363552 10 ...</td>\n",
       "      <td>1</td>\n",
       "    </tr>\n",
       "    <tr>\n",
       "      <th>4</th>\n",
       "      <td>000194a2d.jpg</td>\n",
       "      <td>51834 9 52602 9 53370 9 54138 9 54906 9 55674 ...</td>\n",
       "      <td>1</td>\n",
       "    </tr>\n",
       "  </tbody>\n",
       "</table>\n",
       "</div>"
      ],
      "text/plain": [
       "         ImageId                                      EncodedPixels  ships\n",
       "0  00003e153.jpg                                                NaN      0\n",
       "1  0001124c7.jpg                                                NaN      0\n",
       "2  000155de5.jpg  264661 17 265429 33 266197 33 266965 33 267733...      1\n",
       "3  000194a2d.jpg  360486 1 361252 4 362019 5 362785 8 363552 10 ...      1\n",
       "4  000194a2d.jpg  51834 9 52602 9 53370 9 54138 9 54906 9 55674 ...      1"
      ]
     },
     "execution_count": 6,
     "metadata": {},
     "output_type": "execute_result"
    }
   ],
   "source": [
    "masks['ships'] = masks['EncodedPixels'].map(lambda c_row: 1 if isinstance(c_row, str) else 0)\n",
    "unique_img_ids = masks.groupby('ImageId').agg({'ships': 'sum'}).reset_index()\n",
    "unique_img_ids['has_ship'] = unique_img_ids['ships'].map(lambda x: 1.0 if x>0 else 0.0)\n",
    "\n",
    "masks.head()"
   ]
  },
  {
   "cell_type": "code",
   "execution_count": 7,
   "metadata": {},
   "outputs": [],
   "source": [
    "# список изображений без кораблей\n",
    "masks_none = []\n",
    "for i in range(masks.shape[0]):\n",
    "    if masks.ships[i] == 0:\n",
    "        masks_none.append(masks.ImageId[i])"
   ]
  },
  {
   "cell_type": "code",
   "execution_count": 8,
   "metadata": {},
   "outputs": [
    {
     "name": "stdout",
     "output_type": "stream",
     "text": [
      "150000\n",
      "6384c3e78.jpg\n"
     ]
    }
   ],
   "source": [
    "print(len(masks_none))\n",
    "print(masks_none[58259])\n",
    "ERROR_FILE = '6384c3e78.jpg'"
   ]
  },
  {
   "cell_type": "markdown",
   "metadata": {},
   "source": [
    "### Найдем пустые изображения с гребными на волнах"
   ]
  },
  {
   "cell_type": "code",
   "execution_count": 7,
   "metadata": {},
   "outputs": [
    {
     "name": "stdout",
     "output_type": "stream",
     "text": [
      "Processing 135 thousand images\n",
      "Processing 136 thousand images\n",
      "Processing 137 thousand images\n",
      "Processing 138 thousand images\n",
      "Processing 139 thousand images\n",
      "Processing 140 thousand images\n",
      "Processing 141 thousand images\n",
      "Processing 142 thousand images\n",
      "Processing 143 thousand images\n",
      "Processing 144 thousand images\n",
      "Processing 145 thousand images\n",
      "Processing 146 thousand images\n",
      "Processing 147 thousand images\n",
      "Processing 148 thousand images\n",
      "Processing 149 thousand images\n"
     ]
    }
   ],
   "source": [
    "for i in range(135000, len(masks_none)):\n",
    "    if i % 1000 == 0:\n",
    "        print('Processing {} thousand images'.format(i // 1000))\n",
    "    c_img = masks_none[i]\n",
    "    if c_img == ERROR_FILE:\n",
    "        continue\n",
    "    img = Image.open('F:\\\\Downloads\\\\all\\\\train_v2\\\\{}'.format(c_img))\n",
    "    img_bin = img.convert('L')\n",
    "    img_bin = np.array(img_bin)\n",
    "\n",
    "    ca = np.mean(img_bin)\n",
    "    cv = np.mean(np.abs(img_bin - ca))\n",
    "\n",
    "    y = (np.abs(img_bin - ca) > 50) * 1.0\n",
    "    sBin = np.sum(y)/(768*768)\n",
    "    \n",
    "    img_masks = masks.loc[masks['ImageId'] == c_img, 'EncodedPixels'].tolist()\n",
    "    # Take the individual ship masks and create a single mask array for all ships\n",
    "    all_masks = np.zeros((768, 768))\n",
    "    for mask in img_masks:\n",
    "        all_masks += rle_decode(mask)\n",
    "    \n",
    "    labels, n_labels = ndimage.label(all_masks)\n",
    "    \n",
    "    if sBin < 0.07 and cv < 12 and cv > 10 and n_labels < 4:\n",
    "        img.save('F:\\\\Downloads\\\\all\\\\monotone_waves_v2\\\\{}'.format(c_img))"
   ]
  },
  {
   "cell_type": "code",
   "execution_count": 269,
   "metadata": {},
   "outputs": [
    {
     "data": {
      "text/plain": [
       "60485"
      ]
     },
     "execution_count": 269,
     "metadata": {},
     "output_type": "execute_result"
    }
   ],
   "source": [
    "i"
   ]
  },
  {
   "cell_type": "markdown",
   "metadata": {},
   "source": [
    "## Блок для проверки"
   ]
  },
  {
   "cell_type": "code",
   "execution_count": 261,
   "metadata": {},
   "outputs": [
    {
     "name": "stdout",
     "output_type": "stream",
     "text": [
      "5.086263020833333e-06\n",
      "0.04554578993055555 11.967275233203427\n"
     ]
    }
   ],
   "source": [
    "#c_img = '002c872c1.jpg'\n",
    "c_img = '00f24b45c.jpg'\n",
    "img = Image.open('F:\\\\Downloads\\\\all\\\\train_v2\\\\{}'.format(c_img))\n",
    "img_rgb = np.array(img)\n",
    "print(np.sum(img_rgb.shape[2])/(768*768))\n",
    "\n",
    "\n",
    "\n",
    "img_bin = img.convert('L')\n",
    "img_bin = np.array(img_bin)\n",
    "\n",
    "ca = np.mean(img_bin)\n",
    "cv = np.mean(np.abs(img_bin - ca))\n",
    "\n",
    "y = (np.abs(img_bin - ca) > 30) * 1.0\n",
    "#plt.imshow(y)\n",
    "sBin = np.sum(y)/(768*768)\n",
    "print(sBin, cv)"
   ]
  },
  {
   "cell_type": "markdown",
   "metadata": {},
   "source": [
    "## Создание датасета с мелкими и средними кораблями + следы за кораблями "
   ]
  },
  {
   "cell_type": "code",
   "execution_count": 10,
   "metadata": {},
   "outputs": [
    {
     "name": "stdout",
     "output_type": "stream",
     "text": [
      "192556\n",
      "Processing 0 thousands images 0.0\n",
      "[nan]\n",
      "[nan]\n",
      "['264661 17 265429 33 266197 33 266965 33 267733 33 268501 33 269269 33 270037 33 270805 33 271573 33 272341 33 273109 33 273877 33 274645 33 275413 33 276181 33 276949 33 277716 34 278484 34 279252 33 280020 33 280788 33 281556 33 282324 33 283092 33 283860 33 284628 33 285396 33 286164 33 286932 33 287700 33 288468 33 289236 33 290004 33 290772 33 291540 33 292308 33 293076 33 293844 33 294612 33 295380 33 296148 33 296916 33 297684 33 298452 33 299220 33 299988 33 300756 33 301524 33 302292 33 303060 33 303827 34 304595 34 305363 33 306131 33 306899 33 307667 33 308435 33 309203 33 309971 33 310739 33 311507 33 312275 33 313043 33 313811 33 314579 33 315347 33 316115 33 316883 33 317651 33 318419 33 319187 33 319955 33 320723 33 321491 33 322259 33 323027 33 323795 33 324563 33 325331 33 326099 33 326867 33 327635 33 328403 33 329171 33 329938 34 330706 34 331474 33 332242 33 333010 33 333778 33 334546 33 335314 33 336082 33 336850 33 337618 33 338386 33 339154 33 339922 33 340690 33 341458 33 342226 33 343003 24 343787 8']\n",
      "['360486 1 361252 4 362019 5 362785 8 363552 10 364321 10 365090 9 365858 10 366627 10 367396 9 368165 9 368933 10 369702 10 370471 9 371240 9 372009 9 372777 10 373546 9 374315 9 375084 7 375852 6 376621 3 377390 1', '51834 9 52602 9 53370 9 54138 9 54906 9 55674 7 56442 7 57210 7 57978 7 58746 7 59514 7 60282 7 61050 9 61818 9 62586 9 63354 9 64122 9 64890 9', '198320 10 199088 10 199856 10 200624 10 201392 10 202160 10 202928 10 203696 10 204464 10 205232 10 206000 10 206768 10 207536 10 208304 10 209072 10 209840 10 210608 10 211376 10 212144 10 212912 10 213680 10 214448 10 215216 10 215984 10 216751 10 217519 10 218287 10 219055 10 219823 10 220591 10 221359 10 222127 10 222895 10 223663 10 224431 10 225199 10 225967 10 226735 10 227503 10 228271 10 229039 10 229807 10 230575 10 231343 10 232111 10 232879 10 233647 10 234415 10', '55683 1 56451 1 57219 1 57987 1 58755 1 59523 1 60291 1', '254389 9 255157 17 255925 17 256693 17 257461 17 258229 17 258997 17 259765 17 260533 17 261301 17 262068 18 262836 17 263604 17 264372 17 265140 17 265908 17 266676 17 267444 17 268212 17 268980 17 269748 17 270516 17 271284 17 272052 17 272820 17 273588 17 274356 17 275124 17 275891 18 276659 17 277427 17 278195 17 278963 17 279731 17 280499 17 281267 17 282035 17 282803 17 283580 8']\n",
      "[nan]\n",
      "Wall time: 338 ms\n"
     ]
    }
   ],
   "source": [
    "%%time\n",
    "\n",
    "minS = 500\n",
    "maxS = 8000\n",
    "\n",
    "images = os.listdir('F:\\\\Downloads\\\\all\\\\train_v2\\\\')\n",
    "print(len(images))\n",
    "start = time.time()\n",
    "for i in range(5):\n",
    "    if i % 1000 == 0:\n",
    "        print('Processing {} thousands images'.format(i // 1000), \n",
    "              time.time() - start)\n",
    "        start = time.time()\n",
    "    if images[i] == ERROR_FILE:\n",
    "        continue\n",
    "    img = Image.open('F:\\\\Downloads\\\\all\\\\train_v2\\\\{}'.format(images[i]))\n",
    "    img_data = np.asarray(img.convert('L'))\n",
    "\n",
    "    ca = np.mean(img_data)\n",
    "    cv = np.mean(np.abs(img_data - ca))\n",
    "    y = (np.abs(img_data - ca) > 30) * 1.0\n",
    "    sBin = np.sum(y)/(768*768)\n",
    "    \n",
    "    img_masks = masks.loc[masks['ImageId'] == images[i], 'EncodedPixels'].tolist()\n",
    "    # Take the individual ship masks and create a single mask array for all ships\n",
    "    all_masks = np.zeros((768, 768))\n",
    "    print(img_masks)\n",
    "    for mask in img_masks:\n",
    "        all_masks += rle_decode(mask)\n",
    "    \n",
    "    labels, n_labels = ndimage.label(all_masks)\n",
    "    if n_labels < 4 and cv < 5 and sBin < 0.003:\n",
    "        param = np.zeros(n_labels)\n",
    "\n",
    "        for j in np.arange(1, n_labels+1):\n",
    "                square = np.where(labels == j)               \n",
    "                if len(square[0]) < minS:\n",
    "                    param[j-1] = 1\n",
    "                else:\n",
    "                    break\n",
    "        summar = np.sum(param)\n",
    "        \n",
    "        if summar > 0:\n",
    "            img.save('F:\\\\Downloads\\\\all\\\\{}'.format(images[i]))"
   ]
  },
  {
   "cell_type": "code",
   "execution_count": 289,
   "metadata": {},
   "outputs": [
    {
     "data": {
      "text/plain": [
       "74846"
      ]
     },
     "execution_count": 289,
     "metadata": {},
     "output_type": "execute_result"
    }
   ],
   "source": [
    "i"
   ]
  },
  {
   "cell_type": "code",
   "execution_count": 7,
   "metadata": {},
   "outputs": [],
   "source": [
    "import pandas as pd\n",
    "import numpy as np\n",
    "import os"
   ]
  },
  {
   "cell_type": "code",
   "execution_count": 23,
   "metadata": {},
   "outputs": [],
   "source": [
    "f = open('F:\\\\Downloads\\\\all\\\\motley.txt', 'r')"
   ]
  },
  {
   "cell_type": "code",
   "execution_count": 24,
   "metadata": {},
   "outputs": [],
   "source": [
    "images_names = []\n",
    "for line in f:\n",
    "    images_names.append(line[:len(line)-1])"
   ]
  },
  {
   "cell_type": "code",
   "execution_count": 25,
   "metadata": {},
   "outputs": [
    {
     "data": {
      "text/plain": [
       "17238"
      ]
     },
     "execution_count": 25,
     "metadata": {},
     "output_type": "execute_result"
    }
   ],
   "source": [
    "len(images_names)"
   ]
  },
  {
   "cell_type": "code",
   "execution_count": 26,
   "metadata": {},
   "outputs": [],
   "source": [
    "masks = pd.read_csv(os.path.join('F:\\\\Downloads\\\\all\\\\',\n",
    "                                 'train_ship_segmentations_v2.csv'))"
   ]
  },
  {
   "cell_type": "code",
   "execution_count": 27,
   "metadata": {},
   "outputs": [
    {
     "name": "stdout",
     "output_type": "stream",
     "text": [
      "Processing 0 thousand images\n",
      "Processing 10 thousand images\n",
      "Wall time: 4min 11s\n"
     ]
    }
   ],
   "source": [
    "%%time\n",
    "data = masks.values\n",
    "new_data = []\n",
    "\n",
    "for i in range(len(images_names)):\n",
    "    if i % 10000 == 0:\n",
    "        print('Processing {} thousand images'.format(i // 1000))\n",
    "    c_img = images_names[i]\n",
    "    rows, _ = np.where(data == c_img)\n",
    "    for j in range(data[rows].shape[0]):\n",
    "        new_data.append(data[rows][j])"
   ]
  },
  {
   "cell_type": "code",
   "execution_count": 28,
   "metadata": {},
   "outputs": [],
   "source": [
    "data_csv = pd.DataFrame(new_data, columns=['ImageId', 'EncodedPixels'])\n",
    "name_file = 'motley_train.csv'\n",
    "data_csv.to_csv('F:\\\\Downloads\\\\all\\\\' + name_file)"
   ]
  },
  {
   "cell_type": "code",
   "execution_count": 32,
   "metadata": {},
   "outputs": [
    {
     "name": "stdout",
     "output_type": "stream",
     "text": [
      "64156\n",
      "Processing 0 thousand images\n",
      "Processing 1 thousand images\n",
      "Processing 2 thousand images\n",
      "Processing 3 thousand images\n",
      "Processing 4 thousand images\n",
      "Processing 5 thousand images\n",
      "Processing 6 thousand images\n",
      "Processing 7 thousand images\n",
      "Processing 8 thousand images\n",
      "Processing 9 thousand images\n",
      "Processing 10 thousand images\n",
      "Processing 11 thousand images\n",
      "Processing 12 thousand images\n",
      "Processing 13 thousand images\n",
      "Processing 14 thousand images\n",
      "Processing 15 thousand images\n",
      "Processing 16 thousand images\n",
      "Processing 17 thousand images\n",
      "Processing 18 thousand images\n",
      "Processing 19 thousand images\n",
      "Processing 20 thousand images\n",
      "Processing 21 thousand images\n",
      "Processing 22 thousand images\n",
      "Processing 23 thousand images\n",
      "Processing 24 thousand images\n",
      "Processing 25 thousand images\n",
      "Processing 26 thousand images\n",
      "Processing 27 thousand images\n",
      "Processing 28 thousand images\n",
      "Processing 29 thousand images\n",
      "Processing 30 thousand images\n",
      "Processing 31 thousand images\n",
      "Processing 32 thousand images\n",
      "Processing 33 thousand images\n",
      "Processing 34 thousand images\n",
      "Processing 35 thousand images\n",
      "Processing 36 thousand images\n",
      "Processing 37 thousand images\n",
      "Processing 38 thousand images\n",
      "Processing 39 thousand images\n",
      "Processing 40 thousand images\n",
      "Processing 41 thousand images\n",
      "Processing 42 thousand images\n",
      "Processing 43 thousand images\n",
      "Processing 44 thousand images\n",
      "Processing 45 thousand images\n",
      "Processing 46 thousand images\n",
      "Processing 47 thousand images\n",
      "Processing 48 thousand images\n",
      "Processing 49 thousand images\n",
      "Processing 50 thousand images\n",
      "Processing 51 thousand images\n",
      "Processing 52 thousand images\n",
      "Processing 53 thousand images\n",
      "Processing 54 thousand images\n",
      "Processing 55 thousand images\n",
      "Processing 56 thousand images\n",
      "Processing 57 thousand images\n",
      "Processing 58 thousand images\n",
      "Processing 59 thousand images\n",
      "Processing 60 thousand images\n",
      "Processing 61 thousand images\n",
      "Processing 62 thousand images\n",
      "Processing 63 thousand images\n",
      "Processing 64 thousand images\n"
     ]
    }
   ],
   "source": [
    "from PIL import Image\n",
    "\n",
    "images_names = pd.read_csv('F:\\\\Downloads\\\\all\\\\harbors_train.csv').ImageId\n",
    "print(len(images_names))\n",
    "\n",
    "for i in range(len(images_names)):\n",
    "    if i % 1000 == 0:\n",
    "        print('Processing {} thousand images'.format(i // 1000))\n",
    "    c_img = images_names[i]\n",
    "    img = Image.open('F:\\\\Downloads\\\\all\\\\train_v2\\\\{}'.format(c_img))    \n",
    "    img.save('F:\\\\Downloads\\\\all\\\\train_harbors\\\\{}'.format(c_img))"
   ]
  },
  {
   "cell_type": "code",
   "execution_count": null,
   "metadata": {},
   "outputs": [],
   "source": []
  }
 ],
 "metadata": {
  "kernelspec": {
   "display_name": "Python 3",
   "language": "python",
   "name": "python3"
  },
  "language_info": {
   "codemirror_mode": {
    "name": "ipython",
    "version": 3
   },
   "file_extension": ".py",
   "mimetype": "text/x-python",
   "name": "python",
   "nbconvert_exporter": "python",
   "pygments_lexer": "ipython3",
   "version": "3.6.7"
  }
 },
 "nbformat": 4,
 "nbformat_minor": 2
}
